{
 "cells": [
  {
   "cell_type": "markdown",
   "metadata": {},
   "source": [
    "# Mesa Library - Introductory Tutorial Study Note\n",
    "\n",
    "I just tried mesa library readig tutorial.   \n",
    "This library is amazing!  \n",
    "\n",
    "## Reference\n",
    "\n",
    "http://mesa.readthedocs.io/en/latest/tutorials/intro_tutorial.html"
   ]
  },
  {
   "cell_type": "markdown",
   "metadata": {},
   "source": [
    "# The rules of the model:\n",
    "\n",
    "There are some number of agents.  \n",
    "All agents begin with 1 unit of money.  \n",
    "At every step of the model, an agent gives 1 unit of money (if they have it) to some other agent."
   ]
  },
  {
   "cell_type": "markdown",
   "metadata": {},
   "source": [
    "# Simple Implementation"
   ]
  },
  {
   "cell_type": "code",
   "execution_count": 25,
   "metadata": {
    "collapsed": false
   },
   "outputs": [],
   "source": [
    "import random\n",
    "import numpy as np\n",
    "from mesa.space import MultiGrid\n",
    "\n",
    "import matplotlib.pyplot as plt\n",
    "plt.style.use('ggplot')"
   ]
  },
  {
   "cell_type": "code",
   "execution_count": 26,
   "metadata": {
    "collapsed": true
   },
   "outputs": [],
   "source": [
    "from mesa import Agent, Model\n",
    "from mesa.time import RandomActivation\n",
    "\n",
    "class MoneyAgent(Agent):\n",
    "    \"\"\" An agent with fixed initial wealth.\"\"\"\n",
    "    def __init__(self, unique_id, model):\n",
    "        super().__init__(unique_id, model)\n",
    "        self.wealth = 1\n",
    "\n",
    "    def step(self):\n",
    "        if self.wealth == 0:\n",
    "            return\n",
    "        other_agent = random.choice(self.model.schedule.agents)\n",
    "        other_agent.wealth += 1\n",
    "        self.wealth -= 1\n",
    "\n",
    "class MoneyModel(Model):\n",
    "    \"\"\"A model with some number of agents.\"\"\"\n",
    "    def __init__(self, N):\n",
    "        self.num_agents = N\n",
    "        self.schedule = RandomActivation(self)\n",
    "        # Create agents\n",
    "        for i in range(self.num_agents):\n",
    "            a = MoneyAgent(i, self)\n",
    "            self.schedule.add(a)\n",
    "\n",
    "    def step(self):\n",
    "        '''Advance the model by one step.'''\n",
    "        self.schedule.step()"
   ]
  },
  {
   "cell_type": "code",
   "execution_count": 27,
   "metadata": {
    "collapsed": true
   },
   "outputs": [],
   "source": [
    "model = MoneyModel(10)\n",
    "for i in range(10):\n",
    "    model.step()"
   ]
  },
  {
   "cell_type": "code",
   "execution_count": 28,
   "metadata": {
    "collapsed": false
   },
   "outputs": [],
   "source": [
    "agent_wealth = [a.wealth for a in model.schedule.agents]\n"
   ]
  },
  {
   "cell_type": "code",
   "execution_count": 29,
   "metadata": {
    "collapsed": false
   },
   "outputs": [
    {
     "data": {
      "text/plain": [
       "[1, 2, 1, 0, 1, 1, 3, 0, 1, 0]"
      ]
     },
     "execution_count": 29,
     "metadata": {},
     "output_type": "execute_result"
    }
   ],
   "source": [
    "agent_wealth"
   ]
  },
  {
   "cell_type": "code",
   "execution_count": 30,
   "metadata": {
    "collapsed": false
   },
   "outputs": [
    {
     "data": {
      "image/png": "[encoded data removed]",
      "text/plain": [
       "<matplotlib.figure.Figure at 0xaccf7e6c>"
      ]
     },
     "metadata": {},
     "output_type": "display_data"
    }
   ],
   "source": [
    "plt.hist(agent_wealth)\n",
    "plt.show()"
   ]
  },
  {
   "cell_type": "code",
   "execution_count": 31,
   "metadata": {
    "collapsed": false,
    "scrolled": true
   },
   "outputs": [
    {
     "data": {
      "image/png": "[encoded data removed]",
      "text/plain": [
       "<matplotlib.figure.Figure at 0xacccccac>"
      ]
     },
     "metadata": {},
     "output_type": "display_data"
    }
   ],
   "source": [
    "# see the histogram of wealth of all agents\n",
    "all_wealth = []\n",
    "for j in range(100):\n",
    "    # Run the model\n",
    "    model = MoneyModel(10)\n",
    "    for i in range(10):\n",
    "        model.step()\n",
    "\n",
    "    # Store the results\n",
    "    for agent in model.schedule.agents:\n",
    "        all_wealth.append(agent.wealth)\n",
    "\n",
    "plt.hist(all_wealth, bins=range(max(all_wealth)+1),color=\"red\")\n",
    "plt.show()"
   ]
  },
  {
   "cell_type": "code",
   "execution_count": 32,
   "metadata": {
    "collapsed": false
   },
   "outputs": [],
   "source": [
    "class MoneyModel(Model):\n",
    "    \"\"\"A model with some number of agents.\"\"\"\n",
    "    def __init__(self, N, width, height):\n",
    "        self.num_agents = N\n",
    "        self.grid = MultiGrid(width, height, True)\n",
    "        self.schedule = RandomActivation(self)\n",
    "\n",
    "        # Create agents\n",
    "        for i in range(self.num_agents):\n",
    "            a = MoneyAgent(i, self)\n",
    "            self.schedule.add(a)\n",
    "\n",
    "            # Add the agent to a random grid cell\n",
    "            x = random.randrange(self.grid.width)\n",
    "            y = random.randrange(self.grid.height)\n",
    "            self.grid.place_agent(a, (x, y))\n",
    "            \n",
    "    def step(self):\n",
    "        self.schedule.step()\n",
    "            \n",
    "class MoneyAgent(Agent):\n",
    "    \"\"\" An agent with fixed initial wealth.\"\"\"\n",
    "    def __init__(self, unique_id, model):\n",
    "        super().__init__(unique_id, model)\n",
    "        self.wealth = 1\n",
    "        \n",
    "    def move(self):\n",
    "        possible_steps = self.model.grid.get_neighborhood(\n",
    "            self.pos,\n",
    "            moore=True,\n",
    "            include_center=False)\n",
    "        new_position = random.choice(possible_steps)\n",
    "        self.model.grid.move_agent(self, new_position)\n",
    "        \n",
    "    def give_money(self):\n",
    "        cellmates = self.model.grid.get_cell_list_contents([self.pos])\n",
    "        if len(cellmates) > 1:\n",
    "            other = random.choice(cellmates)\n",
    "            other.wealth += 1\n",
    "            self.wealth -= 1\n",
    "            \n",
    "    def step(self):\n",
    "        self.move()\n",
    "        if self.wealth > 0:\n",
    "            self.give_money()"
   ]
  },
  {
   "cell_type": "markdown",
   "metadata": {},
   "source": [
    "grid: 10 x 10  \n",
    "num of agents: 50 "
   ]
  },
  {
   "cell_type": "code",
   "execution_count": 33,
   "metadata": {
    "collapsed": false
   },
   "outputs": [],
   "source": [
    "model = MoneyModel(50, 10, 10)\n",
    "for i in range(20):\n",
    "    model.step()"
   ]
  },
  {
   "cell_type": "code",
   "execution_count": 34,
   "metadata": {
    "collapsed": false
   },
   "outputs": [],
   "source": [
    "a = model.grid.coord_iter()"
   ]
  },
  {
   "cell_type": "code",
   "execution_count": 35,
   "metadata": {
    "collapsed": false
   },
   "outputs": [
    {
     "data": {
      "image/png": "[encoded data removed]",
      "text/plain": [
       "<matplotlib.figure.Figure at 0xacc7ab4c>"
      ]
     },
     "metadata": {},
     "output_type": "display_data"
    }
   ],
   "source": [
    "agent_counts = np.zeros((model.grid.width, model.grid.height))\n",
    "for cell in model.grid.coord_iter():\n",
    "    cell_content, x, y = cell\n",
    "    agent_count = len(cell_content)\n",
    "    agent_counts[x][y] = agent_count\n",
    "plt.grid(b=False)\n",
    "plt.axis('off')\n",
    "\n",
    "plt.imshow(agent_counts, interpolation='nearest')\n",
    "plt.colorbar()\n",
    "plt.show()"
   ]
  },
  {
   "cell_type": "markdown",
   "metadata": {},
   "source": [
    "# Data Collect"
   ]
  },
  {
   "cell_type": "code",
   "execution_count": 36,
   "metadata": {
    "collapsed": true
   },
   "outputs": [],
   "source": [
    "from mesa.datacollection import DataCollector\n",
    "\n",
    "def compute_gini(model):\n",
    "    agent_wealths = [agent.wealth for agent in model.schedule.agents]\n",
    "    x = sorted(agent_wealths)\n",
    "    N = model.num_agents\n",
    "    B = sum( xi * (N-i) for i,xi in enumerate(x) ) / (N*sum(x))\n",
    "    return (1 + (1/N) - 2*B)\n",
    "\n",
    "class MoneyAgent(Agent):\n",
    "    \"\"\" An agent with fixed initial wealth.\"\"\"\n",
    "    def __init__(self, unique_id, model):\n",
    "        super().__init__(unique_id, model)\n",
    "        self.wealth = 1\n",
    "\n",
    "    def move(self):\n",
    "        possible_steps = self.model.grid.get_neighborhood(\n",
    "            self.pos,\n",
    "            moore=True,\n",
    "            include_center=False)\n",
    "        new_position = random.choice(possible_steps)\n",
    "        self.model.grid.move_agent(self, new_position)\n",
    "\n",
    "    def give_money(self):\n",
    "        cellmates = self.model.grid.get_cell_list_contents([self.pos])\n",
    "        if len(cellmates) > 1:\n",
    "            other = random.choice(cellmates)\n",
    "            other.wealth += 1\n",
    "            self.wealth -= 1\n",
    "\n",
    "    def step(self):\n",
    "        self.move()\n",
    "        if self.wealth > 0:\n",
    "            self.give_money()\n",
    "\n",
    "class MoneyModel(Model):\n",
    "    \"\"\"A model with some number of agents.\"\"\"\n",
    "    def __init__(self, N, width, height):\n",
    "        self.num_agents = N\n",
    "        self.grid = MultiGrid(width, height, True)\n",
    "        self.schedule = RandomActivation(self)\n",
    "\n",
    "        # Create agents\n",
    "        for i in range(self.num_agents):\n",
    "            a = MoneyAgent(i, self)\n",
    "            self.schedule.add(a)\n",
    "            # Add the agent to a random grid cell\n",
    "            x = random.randrange(self.grid.width)\n",
    "            y = random.randrange(self.grid.height)\n",
    "            self.grid.place_agent(a, (x, y))\n",
    "\n",
    "        self.datacollector = DataCollector(\n",
    "            model_reporters={\"Gini\": compute_gini},\n",
    "            agent_reporters={\"Wealth\": lambda a: a.wealth})\n",
    "\n",
    "    def step(self):\n",
    "        self.datacollector.collect(self)\n",
    "        self.schedule.step()"
   ]
  },
  {
   "cell_type": "code",
   "execution_count": 37,
   "metadata": {
    "collapsed": false
   },
   "outputs": [
    {
     "data": {
      "image/png": "[encoded data removed]",
      "text/plain": [
       "<matplotlib.figure.Figure at 0xab34ce8c>"
      ]
     },
     "metadata": {},
     "output_type": "display_data"
    }
   ],
   "source": [
    "model = MoneyModel(50, 10, 10)\n",
    "for i in range(100):\n",
    "    model.step()\n",
    "gini = model.datacollector.get_model_vars_dataframe()\n",
    "gini.plot()\n",
    "plt.show()"
   ]
  },
  {
   "cell_type": "code",
   "execution_count": 38,
   "metadata": {
    "collapsed": false
   },
   "outputs": [
    {
     "data": {
      "text/html": [
       "<div>\n",
       "<table border=\"1\" class=\"dataframe\">\n",
       "  <thead>\n",
       "    <tr style=\"text-align: right;\">\n",
       "      <th></th>\n",
       "      <th></th>\n",
       "      <th>Wealth</th>\n",
       "    </tr>\n",
       "    <tr>\n",
       "      <th>Step</th>\n",
       "      <th>AgentID</th>\n",
       "      <th></th>\n",
       "    </tr>\n",
       "  </thead>\n",
       "  <tbody>\n",
       "    <tr>\n",
       "      <th rowspan=\"5\" valign=\"top\">0</th>\n",
       "      <th>0</th>\n",
       "      <td>1</td>\n",
       "    </tr>\n",
       "    <tr>\n",
       "      <th>1</th>\n",
       "      <td>1</td>\n",
       "    </tr>\n",
       "    <tr>\n",
       "      <th>2</th>\n",
       "      <td>1</td>\n",
       "    </tr>\n",
       "    <tr>\n",
       "      <th>3</th>\n",
       "      <td>1</td>\n",
       "    </tr>\n",
       "    <tr>\n",
       "      <th>4</th>\n",
       "      <td>1</td>\n",
       "    </tr>\n",
       "  </tbody>\n",
       "</table>\n",
       "</div>"
      ],
      "text/plain": [
       "              Wealth\n",
       "Step AgentID        \n",
       "0    0             1\n",
       "     1             1\n",
       "     2             1\n",
       "     3             1\n",
       "     4             1"
      ]
     },
     "execution_count": 38,
     "metadata": {},
     "output_type": "execute_result"
    }
   ],
   "source": [
    "agent_wealth = model.datacollector.get_agent_vars_dataframe()\n",
    "agent_wealth.head()"
   ]
  },
  {
   "cell_type": "code",
   "execution_count": 39,
   "metadata": {
    "collapsed": false
   },
   "outputs": [
    {
     "data": {
      "image/png": "[encoded data removed]",
      "text/plain": [
       "<matplotlib.figure.Figure at 0xacd442cc>"
      ]
     },
     "metadata": {},
     "output_type": "display_data"
    }
   ],
   "source": [
    "end_wealth = agent_wealth.xs(99, level=\"Step\")[\"Wealth\"]\n",
    "end_wealth.hist(bins=range(agent_wealth.Wealth.max()+1))\n",
    "plt.show()"
   ]
  },
  {
   "cell_type": "code",
   "execution_count": 40,
   "metadata": {
    "collapsed": false
   },
   "outputs": [
    {
     "data": {
      "image/png": "[encoded data removed]",
      "text/plain": [
       "<matplotlib.figure.Figure at 0xab36740c>"
      ]
     },
     "metadata": {},
     "output_type": "display_data"
    }
   ],
   "source": [
    "one_agent_wealth = agent_wealth.xs(1, level=\"AgentID\")\n",
    "one_agent_wealth.Wealth.plot()\n",
    "plt.show()"
   ]
  },
  {
   "cell_type": "markdown",
   "metadata": {},
   "source": [
    "# Batch Run\n"
   ]
  },
  {
   "cell_type": "code",
   "execution_count": 41,
   "metadata": {
    "collapsed": true
   },
   "outputs": [],
   "source": [
    "from mesa.batchrunner import BatchRunner\n"
   ]
  },
  {
   "cell_type": "code",
   "execution_count": 42,
   "metadata": {
    "collapsed": false
   },
   "outputs": [],
   "source": [
    "from mesa.datacollection import DataCollector\n",
    "from mesa import Agent, Model\n",
    "\n",
    "\n",
    "def compute_gini(model):\n",
    "    agent_wealths = [agent.wealth for agent in model.schedule.agents]\n",
    "    x = sorted(agent_wealths)\n",
    "    N = model.num_agents\n",
    "    B = sum( xi * (N-i) for i,xi in enumerate(x) ) / (N*sum(x))\n",
    "    return (1 + (1/N) - 2*B)\n",
    "\n",
    "class MoneyAgent(Agent):\n",
    "    \"\"\" An agent with fixed initial wealth.\"\"\"\n",
    "    def __init__(self, unique_id, model):\n",
    "        super().__init__(unique_id, model)\n",
    "        self.wealth = 1\n",
    "\n",
    "    def move(self):\n",
    "        possible_steps = self.model.grid.get_neighborhood(\n",
    "            self.pos,\n",
    "            moore=True,\n",
    "            include_center=False)\n",
    "        new_position = random.choice(possible_steps)\n",
    "        self.model.grid.move_agent(self, new_position)\n",
    "\n",
    "    def give_money(self):\n",
    "        cellmates = self.model.grid.get_cell_list_contents([self.pos])\n",
    "        if len(cellmates) > 1:\n",
    "            other = random.choice(cellmates)\n",
    "            other.wealth += 1\n",
    "            self.wealth -= 1\n",
    "\n",
    "    def step(self):\n",
    "        self.move()\n",
    "        if self.wealth > 0:\n",
    "            self.give_money()\n",
    "\n",
    "class MoneyModel(Model):\n",
    "    \"\"\"A model with some number of agents.\"\"\"\n",
    "    def __init__(self, N, width, height):\n",
    "        self.num_agents = N\n",
    "        self.grid = MultiGrid(width, height, True)\n",
    "        self.schedule = RandomActivation(self)\n",
    "        self.running = True\n",
    "\n",
    "        # Create agents\n",
    "        for i in range(self.num_agents):\n",
    "            a = MoneyAgent(i, self)\n",
    "            self.schedule.add(a)\n",
    "            # Add the agent to a random grid cell\n",
    "            x = random.randrange(self.grid.width)\n",
    "            y = random.randrange(self.grid.height)\n",
    "            self.grid.place_agent(a, (x, y))\n",
    "\n",
    "        self.datacollector = DataCollector(\n",
    "            model_reporters={\"Gini\": compute_gini},\n",
    "            agent_reporters={\"Wealth\": lambda a: a.wealth})\n",
    "\n",
    "    def step(self):\n",
    "        self.datacollector.collect(self)\n",
    "        self.schedule.step()\n"
   ]
  },
  {
   "cell_type": "code",
   "execution_count": 71,
   "metadata": {
    "collapsed": false
   },
   "outputs": [
    {
     "name": "stderr",
     "output_type": "stream",
     "text": [
      "100%|██████████| 245/245 [08:47<00:00,  3.86s/it]\n"
     ]
    }
   ],
   "source": [
    "parameters = {\"width\": 10,\n",
    "              \"height\": 10,\n",
    "              \"N\": range(10, 500, 10)}\n",
    "\n",
    "batch_run = BatchRunner(MoneyModel,\n",
    "                        parameters,\n",
    "                        iterations=5,\n",
    "                        max_steps=100,\n",
    "                        model_reporters={\"Gini\": compute_gini})\n",
    "batch_run.run_all()"
   ]
  },
  {
   "cell_type": "code",
   "execution_count": 43,
   "metadata": {
    "collapsed": false,
    "scrolled": true
   },
   "outputs": [
    {
     "ename": "NameError",
     "evalue": "name 'batch_run' is not defined",
     "output_type": "error",
     "traceback": [
      "\u001b[0;31m---------------------------------------------------------------------------\u001b[0m",
      "\u001b[0;31mNameError\u001b[0m                                 Traceback (most recent call last)",
      "\u001b[0;32m<ipython-input-43-3eec075527e4>\u001b[0m in \u001b[0;36m<module>\u001b[0;34m()\u001b[0m\n\u001b[0;32m----> 1\u001b[0;31m \u001b[0mrun_data\u001b[0m \u001b[0;34m=\u001b[0m \u001b[0mbatch_run\u001b[0m\u001b[0;34m.\u001b[0m\u001b[0mget_model_vars_dataframe\u001b[0m\u001b[0;34m(\u001b[0m\u001b[0;34m)\u001b[0m\u001b[0;34m\u001b[0m\u001b[0m\n\u001b[0m\u001b[1;32m      2\u001b[0m \u001b[0mrun_data\u001b[0m\u001b[0;34m.\u001b[0m\u001b[0mhead\u001b[0m\u001b[0;34m(\u001b[0m\u001b[0;34m)\u001b[0m\u001b[0;34m\u001b[0m\u001b[0m\n\u001b[1;32m      3\u001b[0m \u001b[0mplt\u001b[0m\u001b[0;34m.\u001b[0m\u001b[0mxlim\u001b[0m\u001b[0;34m(\u001b[0m\u001b[0;34m[\u001b[0m\u001b[0;36m0\u001b[0m\u001b[0;34m,\u001b[0m\u001b[0;36m500\u001b[0m\u001b[0;34m]\u001b[0m\u001b[0;34m)\u001b[0m\u001b[0;34m\u001b[0m\u001b[0m\n\u001b[1;32m      4\u001b[0m \u001b[0mplt\u001b[0m\u001b[0;34m.\u001b[0m\u001b[0mxlabel\u001b[0m\u001b[0;34m(\u001b[0m\u001b[0;34m\"The Number of Agents\"\u001b[0m\u001b[0;34m)\u001b[0m\u001b[0;34m\u001b[0m\u001b[0m\n\u001b[1;32m      5\u001b[0m \u001b[0mplt\u001b[0m\u001b[0;34m.\u001b[0m\u001b[0mylabel\u001b[0m\u001b[0;34m(\u001b[0m\u001b[0;34m\"Gini Coefficient\"\u001b[0m\u001b[0;34m)\u001b[0m\u001b[0;34m\u001b[0m\u001b[0m\n",
      "\u001b[0;31mNameError\u001b[0m: name 'batch_run' is not defined"
     ]
    }
   ],
   "source": [
    "run_data = batch_run.get_model_vars_dataframe()\n",
    "run_data.head()\n",
    "plt.xlim([0,500])\n",
    "plt.xlabel(\"The Number of Agents\")\n",
    "plt.ylabel(\"Gini Coefficient\")\n",
    "plt.scatter(run_data.N, run_data.Gini,color=\"black\")\n",
    "plt.show()"
   ]
  },
  {
   "cell_type": "markdown",
   "metadata": {},
   "source": [
    "# Advanced Example"
   ]
  },
  {
   "cell_type": "code",
   "execution_count": 44,
   "metadata": {
    "collapsed": true
   },
   "outputs": [],
   "source": [
    "from mesa.visualization.modules import CanvasGrid\n",
    "from mesa.visualization.ModularVisualization import ModularServer"
   ]
  },
  {
   "cell_type": "code",
   "execution_count": 45,
   "metadata": {
    "collapsed": false
   },
   "outputs": [],
   "source": [
    "def agent_portrayal(agent):\n",
    "    portrayal = {\"Shape\": \"circle\",\n",
    "                 \"Color\": \"red\",\n",
    "                 \"Filled\": \"true\",\n",
    "                 \"Layer\": 0,\n",
    "                 \"r\": 0.5}\n",
    "    return portrayal"
   ]
  },
  {
   "cell_type": "code",
   "execution_count": 46,
   "metadata": {
    "collapsed": true
   },
   "outputs": [],
   "source": [
    "grid = CanvasGrid(agent_portrayal, 10, 10, 500, 500)"
   ]
  },
  {
   "cell_type": "code",
   "execution_count": 47,
   "metadata": {
    "collapsed": false
   },
   "outputs": [
    {
     "name": "stdout",
     "output_type": "stream",
     "text": [
      "Interface starting at http://127.0.0.1:8523\n",
      "Socket opened!\n",
      "{\"type\":\"reset\"}\n"
     ]
    }
   ],
   "source": [
    "from __main__ import MoneyModel\n",
    "server = ModularServer(MoneyModel,\n",
    "[grid],\n",
    "\"Money Model\",\n",
    "100, 10, 10)\n",
    "server.port = 8523 # The default\n",
    "server.launch()"
   ]
  },
  {
   "cell_type": "markdown",
   "metadata": {},
   "source": [
    "At http://127.0.0.1:8521/ or somewhere else, you will see the simulation."
   ]
  },
  {
   "cell_type": "markdown",
   "metadata": {},
   "source": [
    "## Changing the agents"
   ]
  },
  {
   "cell_type": "code",
   "execution_count": 48,
   "metadata": {
    "collapsed": false
   },
   "outputs": [],
   "source": [
    "from mesa.visualization.modules import CanvasGrid\n",
    "from mesa.visualization.ModularVisualization import ModularServer"
   ]
  },
  {
   "cell_type": "code",
   "execution_count": 49,
   "metadata": {
    "collapsed": true
   },
   "outputs": [],
   "source": [
    "def agent_portrayal(agent):\n",
    "    portrayal = {\"Shape\": \"circle\",\n",
    "                 \"Color\": \"red\",\n",
    "                 \"Filled\": \"true\",\n",
    "                 \"Layer\": 0,\n",
    "                 \"r\": 0.5}\n",
    "    if agent.wealth > 0:\n",
    "        portrayal[\"Color\"] = \"red\"\n",
    "        portrayal[\"Layer\"] = 0\n",
    "    else:\n",
    "        portrayal[\"Color\"] = \"grey\"\n",
    "        portrayal[\"Layer\"] = 1\n",
    "        portrayal[\"r\"] = 0.2\n",
    "    return portrayal"
   ]
  },
  {
   "cell_type": "code",
   "execution_count": 50,
   "metadata": {
    "collapsed": true
   },
   "outputs": [],
   "source": [
    "grid = CanvasGrid(agent_portrayal, 10, 10, 500, 500)"
   ]
  },
  {
   "cell_type": "code",
   "execution_count": 56,
   "metadata": {
    "collapsed": false
   },
   "outputs": [
    {
     "name": "stdout",
     "output_type": "stream",
     "text": [
      "Interface starting at http://127.0.0.1:8525\n"
     ]
    },
    {
     "ename": "OSError",
     "evalue": "[Errno 98] Address already in use",
     "output_type": "error",
     "traceback": [
      "\u001b[0;31m---------------------------------------------------------------------------\u001b[0m",
      "\u001b[0;31mOSError\u001b[0m                                   Traceback (most recent call last)",
      "\u001b[0;32m<ipython-input-56-838a554adc65>\u001b[0m in \u001b[0;36m<module>\u001b[0;34m()\u001b[0m\n\u001b[1;32m     14\u001b[0m                        100, 10, 10)\n\u001b[1;32m     15\u001b[0m \u001b[0mserver\u001b[0m\u001b[0;34m.\u001b[0m\u001b[0mport\u001b[0m \u001b[0;34m=\u001b[0m \u001b[0;36m8525\u001b[0m \u001b[0;31m# I choose another port\u001b[0m\u001b[0;34m\u001b[0m\u001b[0m\n\u001b[0;32m---> 16\u001b[0;31m \u001b[0mserver\u001b[0m\u001b[0;34m.\u001b[0m\u001b[0mlaunch\u001b[0m\u001b[0;34m(\u001b[0m\u001b[0;34m)\u001b[0m\u001b[0;34m\u001b[0m\u001b[0m\n\u001b[0m",
      "\u001b[0;32m/usr/local/lib/python3.4/dist-packages/mesa/visualization/ModularVisualization.py\u001b[0m in \u001b[0;36mlaunch\u001b[0;34m(self, port)\u001b[0m\n\u001b[1;32m    265\u001b[0m         \u001b[0murl\u001b[0m \u001b[0;34m=\u001b[0m \u001b[0;34m'http://127.0.0.1:{PORT}'\u001b[0m\u001b[0;34m.\u001b[0m\u001b[0mformat\u001b[0m\u001b[0;34m(\u001b[0m\u001b[0mPORT\u001b[0m\u001b[0;34m=\u001b[0m\u001b[0mself\u001b[0m\u001b[0;34m.\u001b[0m\u001b[0mport\u001b[0m\u001b[0;34m)\u001b[0m\u001b[0;34m\u001b[0m\u001b[0m\n\u001b[1;32m    266\u001b[0m         \u001b[0mprint\u001b[0m\u001b[0;34m(\u001b[0m\u001b[0;34m'Interface starting at {url}'\u001b[0m\u001b[0;34m.\u001b[0m\u001b[0mformat\u001b[0m\u001b[0;34m(\u001b[0m\u001b[0murl\u001b[0m\u001b[0;34m=\u001b[0m\u001b[0murl\u001b[0m\u001b[0;34m)\u001b[0m\u001b[0;34m)\u001b[0m\u001b[0;34m\u001b[0m\u001b[0m\n\u001b[0;32m--> 267\u001b[0;31m         \u001b[0mself\u001b[0m\u001b[0;34m.\u001b[0m\u001b[0mlisten\u001b[0m\u001b[0;34m(\u001b[0m\u001b[0mself\u001b[0m\u001b[0;34m.\u001b[0m\u001b[0mport\u001b[0m\u001b[0;34m)\u001b[0m\u001b[0;34m\u001b[0m\u001b[0m\n\u001b[0m\u001b[1;32m    268\u001b[0m         \u001b[0mwebbrowser\u001b[0m\u001b[0;34m.\u001b[0m\u001b[0mopen\u001b[0m\u001b[0;34m(\u001b[0m\u001b[0murl\u001b[0m\u001b[0;34m)\u001b[0m\u001b[0;34m\u001b[0m\u001b[0m\n\u001b[1;32m    269\u001b[0m         \u001b[0mtornado\u001b[0m\u001b[0;34m.\u001b[0m\u001b[0mautoreload\u001b[0m\u001b[0;34m.\u001b[0m\u001b[0mstart\u001b[0m\u001b[0;34m(\u001b[0m\u001b[0;34m)\u001b[0m\u001b[0;34m\u001b[0m\u001b[0m\n",
      "\u001b[0;32m/usr/local/lib/python3.4/dist-packages/tornado/web.py\u001b[0m in \u001b[0;36mlisten\u001b[0;34m(self, port, address, **kwargs)\u001b[0m\n\u001b[1;32m   1848\u001b[0m         \u001b[0;32mfrom\u001b[0m \u001b[0mtornado\u001b[0m\u001b[0;34m.\u001b[0m\u001b[0mhttpserver\u001b[0m \u001b[0;32mimport\u001b[0m \u001b[0mHTTPServer\u001b[0m\u001b[0;34m\u001b[0m\u001b[0m\n\u001b[1;32m   1849\u001b[0m         \u001b[0mserver\u001b[0m \u001b[0;34m=\u001b[0m \u001b[0mHTTPServer\u001b[0m\u001b[0;34m(\u001b[0m\u001b[0mself\u001b[0m\u001b[0;34m,\u001b[0m \u001b[0;34m**\u001b[0m\u001b[0mkwargs\u001b[0m\u001b[0;34m)\u001b[0m\u001b[0;34m\u001b[0m\u001b[0m\n\u001b[0;32m-> 1850\u001b[0;31m         \u001b[0mserver\u001b[0m\u001b[0;34m.\u001b[0m\u001b[0mlisten\u001b[0m\u001b[0;34m(\u001b[0m\u001b[0mport\u001b[0m\u001b[0;34m,\u001b[0m \u001b[0maddress\u001b[0m\u001b[0;34m)\u001b[0m\u001b[0;34m\u001b[0m\u001b[0m\n\u001b[0m\u001b[1;32m   1851\u001b[0m         \u001b[0;32mreturn\u001b[0m \u001b[0mserver\u001b[0m\u001b[0;34m\u001b[0m\u001b[0m\n\u001b[1;32m   1852\u001b[0m \u001b[0;34m\u001b[0m\u001b[0m\n",
      "\u001b[0;32m/usr/local/lib/python3.4/dist-packages/tornado/tcpserver.py\u001b[0m in \u001b[0;36mlisten\u001b[0;34m(self, port, address)\u001b[0m\n\u001b[1;32m    124\u001b[0m         \u001b[0mthe\u001b[0m\u001b[0;31m \u001b[0m\u001b[0;31m`\u001b[0m\u001b[0;34m.\u001b[0m\u001b[0mIOLoop\u001b[0m\u001b[0;31m`\u001b[0m\u001b[0;34m.\u001b[0m\u001b[0;34m\u001b[0m\u001b[0m\n\u001b[1;32m    125\u001b[0m         \"\"\"\n\u001b[0;32m--> 126\u001b[0;31m         \u001b[0msockets\u001b[0m \u001b[0;34m=\u001b[0m \u001b[0mbind_sockets\u001b[0m\u001b[0;34m(\u001b[0m\u001b[0mport\u001b[0m\u001b[0;34m,\u001b[0m \u001b[0maddress\u001b[0m\u001b[0;34m=\u001b[0m\u001b[0maddress\u001b[0m\u001b[0;34m)\u001b[0m\u001b[0;34m\u001b[0m\u001b[0m\n\u001b[0m\u001b[1;32m    127\u001b[0m         \u001b[0mself\u001b[0m\u001b[0;34m.\u001b[0m\u001b[0madd_sockets\u001b[0m\u001b[0;34m(\u001b[0m\u001b[0msockets\u001b[0m\u001b[0;34m)\u001b[0m\u001b[0;34m\u001b[0m\u001b[0m\n\u001b[1;32m    128\u001b[0m \u001b[0;34m\u001b[0m\u001b[0m\n",
      "\u001b[0;32m/usr/local/lib/python3.4/dist-packages/tornado/netutil.py\u001b[0m in \u001b[0;36mbind_sockets\u001b[0;34m(port, address, family, backlog, flags, reuse_port)\u001b[0m\n\u001b[1;32m    192\u001b[0m \u001b[0;34m\u001b[0m\u001b[0m\n\u001b[1;32m    193\u001b[0m         \u001b[0msock\u001b[0m\u001b[0;34m.\u001b[0m\u001b[0msetblocking\u001b[0m\u001b[0;34m(\u001b[0m\u001b[0;36m0\u001b[0m\u001b[0;34m)\u001b[0m\u001b[0;34m\u001b[0m\u001b[0m\n\u001b[0;32m--> 194\u001b[0;31m         \u001b[0msock\u001b[0m\u001b[0;34m.\u001b[0m\u001b[0mbind\u001b[0m\u001b[0;34m(\u001b[0m\u001b[0msockaddr\u001b[0m\u001b[0;34m)\u001b[0m\u001b[0;34m\u001b[0m\u001b[0m\n\u001b[0m\u001b[1;32m    195\u001b[0m         \u001b[0mbound_port\u001b[0m \u001b[0;34m=\u001b[0m \u001b[0msock\u001b[0m\u001b[0;34m.\u001b[0m\u001b[0mgetsockname\u001b[0m\u001b[0;34m(\u001b[0m\u001b[0;34m)\u001b[0m\u001b[0;34m[\u001b[0m\u001b[0;36m1\u001b[0m\u001b[0;34m]\u001b[0m\u001b[0;34m\u001b[0m\u001b[0m\n\u001b[1;32m    196\u001b[0m         \u001b[0msock\u001b[0m\u001b[0;34m.\u001b[0m\u001b[0mlisten\u001b[0m\u001b[0;34m(\u001b[0m\u001b[0mbacklog\u001b[0m\u001b[0;34m)\u001b[0m\u001b[0;34m\u001b[0m\u001b[0m\n",
      "\u001b[0;31mOSError\u001b[0m: [Errno 98] Address already in use"
     ]
    },
    {
     "name": "stdout",
     "output_type": "stream",
     "text": [
      "Socket opened!\n",
      "{\"type\":\"reset\"}\n",
      "{\"type\":\"get_step\",\"step\":1}\n",
      "{\"type\":\"get_step\",\"step\":2}\n",
      "{\"type\":\"get_step\",\"step\":3}\n",
      "{\"type\":\"get_step\",\"step\":4}\n",
      "{\"type\":\"get_step\",\"step\":5}\n",
      "{\"type\":\"get_step\",\"step\":6}\n",
      "{\"type\":\"get_step\",\"step\":7}\n",
      "{\"type\":\"get_step\",\"step\":8}\n",
      "{\"type\":\"get_step\",\"step\":9}\n",
      "{\"type\":\"get_step\",\"step\":10}\n",
      "{\"type\":\"get_step\",\"step\":11}\n",
      "{\"type\":\"get_step\",\"step\":12}\n",
      "{\"type\":\"get_step\",\"step\":13}\n",
      "{\"type\":\"get_step\",\"step\":14}\n",
      "{\"type\":\"get_step\",\"step\":15}\n",
      "{\"type\":\"get_step\",\"step\":16}\n",
      "{\"type\":\"get_step\",\"step\":17}\n",
      "{\"type\":\"get_step\",\"step\":18}\n",
      "{\"type\":\"get_step\",\"step\":19}\n",
      "{\"type\":\"get_step\",\"step\":20}\n",
      "{\"type\":\"get_step\",\"step\":21}\n",
      "{\"type\":\"get_step\",\"step\":22}\n",
      "{\"type\":\"get_step\",\"step\":23}\n",
      "{\"type\":\"get_step\",\"step\":24}\n",
      "{\"type\":\"get_step\",\"step\":25}\n",
      "{\"type\":\"get_step\",\"step\":26}\n",
      "{\"type\":\"get_step\",\"step\":27}\n",
      "{\"type\":\"get_step\",\"step\":28}\n",
      "{\"type\":\"get_step\",\"step\":29}\n",
      "{\"type\":\"get_step\",\"step\":30}\n",
      "{\"type\":\"get_step\",\"step\":31}\n",
      "{\"type\":\"get_step\",\"step\":32}\n",
      "{\"type\":\"get_step\",\"step\":33}\n",
      "{\"type\":\"get_step\",\"step\":34}\n",
      "{\"type\":\"get_step\",\"step\":35}\n",
      "{\"type\":\"get_step\",\"step\":36}\n",
      "{\"type\":\"get_step\",\"step\":37}\n",
      "{\"type\":\"get_step\",\"step\":38}\n",
      "{\"type\":\"get_step\",\"step\":39}\n",
      "{\"type\":\"get_step\",\"step\":40}\n",
      "{\"type\":\"get_step\",\"step\":41}\n",
      "{\"type\":\"get_step\",\"step\":42}\n",
      "{\"type\":\"get_step\",\"step\":43}\n",
      "{\"type\":\"get_step\",\"step\":44}\n",
      "{\"type\":\"get_step\",\"step\":45}\n",
      "{\"type\":\"get_step\",\"step\":46}\n",
      "{\"type\":\"get_step\",\"step\":47}\n",
      "{\"type\":\"get_step\",\"step\":48}\n",
      "{\"type\":\"get_step\",\"step\":49}\n",
      "{\"type\":\"get_step\",\"step\":50}\n",
      "{\"type\":\"get_step\",\"step\":51}\n",
      "{\"type\":\"get_step\",\"step\":52}\n",
      "{\"type\":\"get_step\",\"step\":53}\n",
      "{\"type\":\"get_step\",\"step\":54}\n",
      "{\"type\":\"get_step\",\"step\":55}\n",
      "{\"type\":\"get_step\",\"step\":56}\n",
      "{\"type\":\"get_step\",\"step\":57}\n",
      "{\"type\":\"get_step\",\"step\":58}\n",
      "{\"type\":\"get_step\",\"step\":59}\n",
      "{\"type\":\"get_step\",\"step\":60}\n",
      "{\"type\":\"get_step\",\"step\":61}\n",
      "{\"type\":\"get_step\",\"step\":62}\n",
      "{\"type\":\"get_step\",\"step\":63}\n",
      "{\"type\":\"get_step\",\"step\":64}\n",
      "{\"type\":\"get_step\",\"step\":65}\n",
      "{\"type\":\"get_step\",\"step\":66}\n",
      "{\"type\":\"get_step\",\"step\":67}\n",
      "{\"type\":\"get_step\",\"step\":68}\n",
      "{\"type\":\"get_step\",\"step\":69}\n",
      "{\"type\":\"get_step\",\"step\":70}\n",
      "{\"type\":\"get_step\",\"step\":71}\n",
      "{\"type\":\"get_step\",\"step\":72}\n",
      "{\"type\":\"get_step\",\"step\":73}\n",
      "{\"type\":\"get_step\",\"step\":74}\n",
      "{\"type\":\"get_step\",\"step\":75}\n",
      "{\"type\":\"get_step\",\"step\":76}\n",
      "{\"type\":\"get_step\",\"step\":77}\n",
      "{\"type\":\"get_step\",\"step\":78}\n",
      "{\"type\":\"get_step\",\"step\":79}\n",
      "{\"type\":\"get_step\",\"step\":80}\n",
      "{\"type\":\"get_step\",\"step\":81}\n",
      "{\"type\":\"get_step\",\"step\":82}\n",
      "{\"type\":\"get_step\",\"step\":83}\n",
      "{\"type\":\"get_step\",\"step\":84}\n",
      "{\"type\":\"get_step\",\"step\":85}\n",
      "{\"type\":\"get_step\",\"step\":86}\n",
      "{\"type\":\"get_step\",\"step\":87}\n",
      "{\"type\":\"get_step\",\"step\":88}\n",
      "{\"type\":\"get_step\",\"step\":89}\n",
      "{\"type\":\"get_step\",\"step\":90}\n",
      "{\"type\":\"get_step\",\"step\":91}\n",
      "{\"type\":\"get_step\",\"step\":92}\n",
      "{\"type\":\"get_step\",\"step\":93}\n",
      "{\"type\":\"get_step\",\"step\":94}\n",
      "{\"type\":\"get_step\",\"step\":95}\n",
      "{\"type\":\"get_step\",\"step\":96}\n",
      "{\"type\":\"get_step\",\"step\":97}\n",
      "{\"type\":\"get_step\",\"step\":98}\n",
      "{\"type\":\"get_step\",\"step\":99}\n",
      "{\"type\":\"get_step\",\"step\":100}\n",
      "{\"type\":\"get_step\",\"step\":101}\n",
      "{\"type\":\"get_step\",\"step\":102}\n",
      "{\"type\":\"get_step\",\"step\":103}\n",
      "{\"type\":\"get_step\",\"step\":104}\n",
      "{\"type\":\"get_step\",\"step\":105}\n",
      "{\"type\":\"get_step\",\"step\":106}\n",
      "{\"type\":\"get_step\",\"step\":107}\n",
      "{\"type\":\"get_step\",\"step\":108}\n",
      "{\"type\":\"get_step\",\"step\":109}\n",
      "{\"type\":\"get_step\",\"step\":110}\n",
      "{\"type\":\"get_step\",\"step\":111}\n",
      "{\"type\":\"get_step\",\"step\":112}\n",
      "{\"type\":\"get_step\",\"step\":113}\n",
      "{\"type\":\"get_step\",\"step\":114}\n",
      "{\"type\":\"get_step\",\"step\":115}\n",
      "{\"type\":\"get_step\",\"step\":116}\n",
      "{\"type\":\"get_step\",\"step\":117}\n",
      "{\"type\":\"get_step\",\"step\":118}\n",
      "{\"type\":\"get_step\",\"step\":119}\n",
      "{\"type\":\"get_step\",\"step\":120}\n",
      "{\"type\":\"get_step\",\"step\":121}\n",
      "{\"type\":\"get_step\",\"step\":122}\n",
      "{\"type\":\"get_step\",\"step\":123}\n",
      "{\"type\":\"get_step\",\"step\":124}\n",
      "{\"type\":\"get_step\",\"step\":125}\n",
      "{\"type\":\"get_step\",\"step\":126}\n",
      "{\"type\":\"get_step\",\"step\":127}\n",
      "{\"type\":\"get_step\",\"step\":128}\n",
      "{\"type\":\"get_step\",\"step\":129}\n",
      "{\"type\":\"get_step\",\"step\":130}\n",
      "{\"type\":\"get_step\",\"step\":131}\n",
      "{\"type\":\"get_step\",\"step\":132}\n",
      "{\"type\":\"get_step\",\"step\":133}\n",
      "{\"type\":\"get_step\",\"step\":134}\n",
      "{\"type\":\"get_step\",\"step\":135}\n",
      "{\"type\":\"get_step\",\"step\":136}\n",
      "{\"type\":\"get_step\",\"step\":137}\n",
      "{\"type\":\"get_step\",\"step\":138}\n",
      "{\"type\":\"get_step\",\"step\":139}\n",
      "{\"type\":\"get_step\",\"step\":140}\n",
      "{\"type\":\"get_step\",\"step\":141}\n",
      "{\"type\":\"get_step\",\"step\":142}\n",
      "{\"type\":\"get_step\",\"step\":143}\n",
      "{\"type\":\"get_step\",\"step\":144}\n",
      "{\"type\":\"get_step\",\"step\":145}\n",
      "{\"type\":\"get_step\",\"step\":146}\n",
      "{\"type\":\"get_step\",\"step\":147}\n",
      "{\"type\":\"get_step\",\"step\":148}\n",
      "{\"type\":\"get_step\",\"step\":149}\n",
      "{\"type\":\"get_step\",\"step\":150}\n",
      "{\"type\":\"get_step\",\"step\":151}\n",
      "{\"type\":\"get_step\",\"step\":152}\n",
      "{\"type\":\"get_step\",\"step\":153}\n",
      "{\"type\":\"get_step\",\"step\":154}\n",
      "{\"type\":\"get_step\",\"step\":155}\n",
      "{\"type\":\"get_step\",\"step\":156}\n",
      "{\"type\":\"get_step\",\"step\":157}\n",
      "{\"type\":\"get_step\",\"step\":158}\n",
      "{\"type\":\"get_step\",\"step\":159}\n",
      "{\"type\":\"get_step\",\"step\":160}\n",
      "{\"type\":\"get_step\",\"step\":161}\n",
      "{\"type\":\"get_step\",\"step\":162}\n",
      "{\"type\":\"get_step\",\"step\":163}\n",
      "{\"type\":\"get_step\",\"step\":164}\n",
      "{\"type\":\"get_step\",\"step\":165}\n",
      "{\"type\":\"get_step\",\"step\":166}\n",
      "{\"type\":\"get_step\",\"step\":167}\n",
      "{\"type\":\"get_step\",\"step\":168}\n",
      "{\"type\":\"get_step\",\"step\":169}\n",
      "{\"type\":\"get_step\",\"step\":170}\n",
      "{\"type\":\"get_step\",\"step\":171}\n",
      "{\"type\":\"get_step\",\"step\":172}\n",
      "{\"type\":\"get_step\",\"step\":173}\n",
      "{\"type\":\"get_step\",\"step\":174}\n",
      "{\"type\":\"get_step\",\"step\":175}\n",
      "{\"type\":\"get_step\",\"step\":176}\n",
      "{\"type\":\"get_step\",\"step\":177}\n",
      "{\"type\":\"get_step\",\"step\":178}\n",
      "{\"type\":\"get_step\",\"step\":179}\n",
      "{\"type\":\"get_step\",\"step\":180}\n",
      "{\"type\":\"get_step\",\"step\":181}\n",
      "{\"type\":\"get_step\",\"step\":182}\n",
      "{\"type\":\"get_step\",\"step\":183}\n",
      "{\"type\":\"get_step\",\"step\":184}\n",
      "{\"type\":\"get_step\",\"step\":185}\n",
      "{\"type\":\"get_step\",\"step\":186}\n",
      "{\"type\":\"get_step\",\"step\":187}\n",
      "{\"type\":\"get_step\",\"step\":188}\n",
      "{\"type\":\"get_step\",\"step\":189}\n",
      "{\"type\":\"get_step\",\"step\":190}\n",
      "{\"type\":\"get_step\",\"step\":191}\n",
      "{\"type\":\"get_step\",\"step\":192}\n",
      "{\"type\":\"get_step\",\"step\":193}\n",
      "{\"type\":\"get_step\",\"step\":194}\n",
      "{\"type\":\"get_step\",\"step\":195}\n",
      "{\"type\":\"get_step\",\"step\":196}\n",
      "{\"type\":\"get_step\",\"step\":197}\n",
      "{\"type\":\"get_step\",\"step\":198}\n",
      "{\"type\":\"get_step\",\"step\":199}\n",
      "{\"type\":\"get_step\",\"step\":200}\n",
      "{\"type\":\"get_step\",\"step\":201}\n",
      "{\"type\":\"get_step\",\"step\":202}\n",
      "{\"type\":\"get_step\",\"step\":203}\n",
      "{\"type\":\"get_step\",\"step\":204}\n",
      "{\"type\":\"get_step\",\"step\":205}\n",
      "{\"type\":\"get_step\",\"step\":206}\n",
      "{\"type\":\"get_step\",\"step\":207}\n",
      "{\"type\":\"get_step\",\"step\":208}\n",
      "{\"type\":\"get_step\",\"step\":209}\n",
      "{\"type\":\"get_step\",\"step\":210}\n",
      "{\"type\":\"get_step\",\"step\":211}\n",
      "{\"type\":\"get_step\",\"step\":212}\n",
      "{\"type\":\"get_step\",\"step\":213}\n",
      "{\"type\":\"get_step\",\"step\":214}\n",
      "{\"type\":\"get_step\",\"step\":215}\n",
      "{\"type\":\"get_step\",\"step\":216}\n",
      "{\"type\":\"get_step\",\"step\":217}\n",
      "{\"type\":\"get_step\",\"step\":218}\n",
      "{\"type\":\"get_step\",\"step\":219}\n",
      "{\"type\":\"get_step\",\"step\":220}\n",
      "{\"type\":\"get_step\",\"step\":221}\n",
      "{\"type\":\"get_step\",\"step\":222}\n",
      "{\"type\":\"get_step\",\"step\":223}\n",
      "{\"type\":\"get_step\",\"step\":224}\n",
      "{\"type\":\"get_step\",\"step\":225}\n",
      "{\"type\":\"get_step\",\"step\":226}\n",
      "{\"type\":\"get_step\",\"step\":227}\n",
      "{\"type\":\"get_step\",\"step\":228}\n",
      "{\"type\":\"get_step\",\"step\":229}\n",
      "{\"type\":\"get_step\",\"step\":230}\n",
      "{\"type\":\"get_step\",\"step\":231}\n",
      "{\"type\":\"get_step\",\"step\":232}\n",
      "{\"type\":\"get_step\",\"step\":233}\n",
      "{\"type\":\"get_step\",\"step\":234}\n",
      "{\"type\":\"get_step\",\"step\":235}\n",
      "{\"type\":\"get_step\",\"step\":236}\n",
      "{\"type\":\"get_step\",\"step\":237}\n",
      "{\"type\":\"get_step\",\"step\":238}\n",
      "{\"type\":\"get_step\",\"step\":239}\n",
      "{\"type\":\"get_step\",\"step\":240}\n",
      "{\"type\":\"get_step\",\"step\":241}\n",
      "{\"type\":\"get_step\",\"step\":242}\n",
      "{\"type\":\"get_step\",\"step\":243}\n",
      "{\"type\":\"get_step\",\"step\":244}\n",
      "{\"type\":\"get_step\",\"step\":245}\n",
      "{\"type\":\"get_step\",\"step\":246}\n",
      "{\"type\":\"get_step\",\"step\":247}\n",
      "{\"type\":\"get_step\",\"step\":248}\n",
      "{\"type\":\"get_step\",\"step\":249}\n",
      "{\"type\":\"get_step\",\"step\":250}\n",
      "{\"type\":\"get_step\",\"step\":251}\n",
      "{\"type\":\"get_step\",\"step\":252}\n",
      "{\"type\":\"get_step\",\"step\":253}\n",
      "{\"type\":\"get_step\",\"step\":254}\n",
      "{\"type\":\"get_step\",\"step\":255}\n",
      "{\"type\":\"get_step\",\"step\":256}\n",
      "{\"type\":\"get_step\",\"step\":257}\n",
      "{\"type\":\"get_step\",\"step\":258}\n",
      "{\"type\":\"get_step\",\"step\":259}\n",
      "{\"type\":\"get_step\",\"step\":260}\n",
      "{\"type\":\"get_step\",\"step\":261}\n",
      "{\"type\":\"get_step\",\"step\":262}\n",
      "{\"type\":\"get_step\",\"step\":263}\n",
      "{\"type\":\"get_step\",\"step\":264}\n",
      "{\"type\":\"get_step\",\"step\":265}\n",
      "{\"type\":\"get_step\",\"step\":266}\n",
      "{\"type\":\"get_step\",\"step\":267}\n",
      "{\"type\":\"get_step\",\"step\":268}\n",
      "{\"type\":\"get_step\",\"step\":269}\n",
      "{\"type\":\"get_step\",\"step\":270}\n",
      "{\"type\":\"get_step\",\"step\":271}\n",
      "{\"type\":\"get_step\",\"step\":272}\n",
      "{\"type\":\"get_step\",\"step\":273}\n",
      "{\"type\":\"get_step\",\"step\":274}\n",
      "{\"type\":\"get_step\",\"step\":275}\n",
      "{\"type\":\"get_step\",\"step\":276}\n",
      "{\"type\":\"get_step\",\"step\":277}\n",
      "{\"type\":\"get_step\",\"step\":278}\n",
      "{\"type\":\"get_step\",\"step\":279}\n",
      "{\"type\":\"get_step\",\"step\":280}\n",
      "{\"type\":\"get_step\",\"step\":281}\n",
      "{\"type\":\"get_step\",\"step\":282}\n",
      "{\"type\":\"get_step\",\"step\":283}\n",
      "{\"type\":\"get_step\",\"step\":284}\n",
      "{\"type\":\"get_step\",\"step\":285}\n",
      "{\"type\":\"get_step\",\"step\":286}\n",
      "{\"type\":\"get_step\",\"step\":287}\n",
      "{\"type\":\"get_step\",\"step\":288}\n",
      "{\"type\":\"get_step\",\"step\":289}\n",
      "{\"type\":\"get_step\",\"step\":290}\n",
      "{\"type\":\"get_step\",\"step\":291}\n",
      "{\"type\":\"get_step\",\"step\":292}\n",
      "{\"type\":\"get_step\",\"step\":293}\n",
      "{\"type\":\"get_step\",\"step\":294}\n",
      "{\"type\":\"get_step\",\"step\":295}\n",
      "{\"type\":\"get_step\",\"step\":296}\n",
      "{\"type\":\"get_step\",\"step\":297}\n",
      "{\"type\":\"get_step\",\"step\":298}\n",
      "{\"type\":\"get_step\",\"step\":299}\n",
      "{\"type\":\"get_step\",\"step\":300}\n",
      "{\"type\":\"get_step\",\"step\":301}\n",
      "{\"type\":\"get_step\",\"step\":302}\n",
      "{\"type\":\"get_step\",\"step\":303}\n",
      "{\"type\":\"get_step\",\"step\":304}\n",
      "{\"type\":\"get_step\",\"step\":305}\n",
      "{\"type\":\"get_step\",\"step\":306}\n",
      "{\"type\":\"get_step\",\"step\":307}\n",
      "{\"type\":\"get_step\",\"step\":308}\n",
      "{\"type\":\"get_step\",\"step\":309}\n",
      "{\"type\":\"get_step\",\"step\":310}\n",
      "{\"type\":\"get_step\",\"step\":311}\n",
      "{\"type\":\"get_step\",\"step\":312}\n",
      "{\"type\":\"get_step\",\"step\":313}\n",
      "{\"type\":\"get_step\",\"step\":314}\n",
      "{\"type\":\"get_step\",\"step\":315}\n",
      "{\"type\":\"get_step\",\"step\":316}\n",
      "{\"type\":\"get_step\",\"step\":317}\n",
      "{\"type\":\"get_step\",\"step\":318}\n",
      "{\"type\":\"get_step\",\"step\":319}\n",
      "{\"type\":\"get_step\",\"step\":320}\n",
      "{\"type\":\"get_step\",\"step\":321}\n",
      "{\"type\":\"get_step\",\"step\":322}\n",
      "{\"type\":\"get_step\",\"step\":323}\n",
      "{\"type\":\"get_step\",\"step\":324}\n",
      "{\"type\":\"get_step\",\"step\":325}\n",
      "{\"type\":\"get_step\",\"step\":326}\n",
      "{\"type\":\"get_step\",\"step\":327}\n",
      "{\"type\":\"get_step\",\"step\":328}\n",
      "{\"type\":\"get_step\",\"step\":329}\n",
      "{\"type\":\"get_step\",\"step\":330}\n",
      "{\"type\":\"get_step\",\"step\":331}\n",
      "{\"type\":\"get_step\",\"step\":332}\n",
      "{\"type\":\"get_step\",\"step\":333}\n",
      "{\"type\":\"get_step\",\"step\":334}\n",
      "{\"type\":\"get_step\",\"step\":335}\n",
      "{\"type\":\"get_step\",\"step\":336}\n",
      "{\"type\":\"get_step\",\"step\":337}\n",
      "{\"type\":\"get_step\",\"step\":338}\n",
      "{\"type\":\"get_step\",\"step\":339}\n",
      "{\"type\":\"get_step\",\"step\":340}\n",
      "{\"type\":\"get_step\",\"step\":341}\n",
      "{\"type\":\"get_step\",\"step\":342}\n",
      "{\"type\":\"get_step\",\"step\":343}\n",
      "{\"type\":\"get_step\",\"step\":344}\n",
      "{\"type\":\"get_step\",\"step\":345}\n",
      "{\"type\":\"get_step\",\"step\":346}\n",
      "{\"type\":\"get_step\",\"step\":347}\n",
      "{\"type\":\"get_step\",\"step\":348}\n",
      "{\"type\":\"get_step\",\"step\":349}\n",
      "{\"type\":\"get_step\",\"step\":350}\n",
      "{\"type\":\"get_step\",\"step\":351}\n",
      "{\"type\":\"get_step\",\"step\":352}\n",
      "{\"type\":\"get_step\",\"step\":353}\n",
      "{\"type\":\"get_step\",\"step\":354}\n",
      "{\"type\":\"get_step\",\"step\":355}\n",
      "{\"type\":\"get_step\",\"step\":356}\n",
      "{\"type\":\"get_step\",\"step\":357}\n",
      "{\"type\":\"get_step\",\"step\":358}\n",
      "{\"type\":\"get_step\",\"step\":359}\n",
      "{\"type\":\"get_step\",\"step\":360}\n",
      "{\"type\":\"get_step\",\"step\":361}\n",
      "{\"type\":\"get_step\",\"step\":362}\n",
      "{\"type\":\"get_step\",\"step\":363}\n",
      "{\"type\":\"get_step\",\"step\":364}\n",
      "{\"type\":\"get_step\",\"step\":365}\n",
      "{\"type\":\"get_step\",\"step\":366}\n",
      "{\"type\":\"get_step\",\"step\":367}\n",
      "{\"type\":\"get_step\",\"step\":368}\n",
      "{\"type\":\"get_step\",\"step\":369}\n",
      "{\"type\":\"get_step\",\"step\":370}\n",
      "{\"type\":\"get_step\",\"step\":371}\n",
      "{\"type\":\"get_step\",\"step\":372}\n",
      "{\"type\":\"get_step\",\"step\":373}\n",
      "{\"type\":\"get_step\",\"step\":374}\n",
      "{\"type\":\"get_step\",\"step\":375}\n",
      "{\"type\":\"get_step\",\"step\":376}\n",
      "{\"type\":\"get_step\",\"step\":377}\n",
      "{\"type\":\"get_step\",\"step\":378}\n",
      "{\"type\":\"get_step\",\"step\":379}\n",
      "{\"type\":\"get_step\",\"step\":380}\n",
      "{\"type\":\"get_step\",\"step\":381}\n",
      "{\"type\":\"get_step\",\"step\":382}\n",
      "{\"type\":\"get_step\",\"step\":383}\n",
      "{\"type\":\"get_step\",\"step\":384}\n",
      "{\"type\":\"get_step\",\"step\":385}\n",
      "{\"type\":\"get_step\",\"step\":386}\n",
      "{\"type\":\"get_step\",\"step\":387}\n",
      "{\"type\":\"get_step\",\"step\":388}\n",
      "{\"type\":\"get_step\",\"step\":389}\n",
      "{\"type\":\"get_step\",\"step\":390}\n",
      "{\"type\":\"get_step\",\"step\":391}\n",
      "{\"type\":\"get_step\",\"step\":392}\n",
      "{\"type\":\"get_step\",\"step\":393}\n",
      "{\"type\":\"get_step\",\"step\":394}\n",
      "{\"type\":\"get_step\",\"step\":395}\n",
      "{\"type\":\"get_step\",\"step\":396}\n",
      "{\"type\":\"get_step\",\"step\":397}\n",
      "{\"type\":\"get_step\",\"step\":398}\n",
      "{\"type\":\"get_step\",\"step\":399}\n",
      "{\"type\":\"get_step\",\"step\":400}\n",
      "{\"type\":\"get_step\",\"step\":401}\n",
      "{\"type\":\"get_step\",\"step\":402}\n",
      "{\"type\":\"get_step\",\"step\":403}\n",
      "{\"type\":\"get_step\",\"step\":404}\n",
      "{\"type\":\"get_step\",\"step\":405}\n",
      "{\"type\":\"get_step\",\"step\":406}\n",
      "{\"type\":\"get_step\",\"step\":407}\n",
      "{\"type\":\"reset\"}\n"
     ]
    }
   ],
   "source": [
    "from __main__ import MoneyModel\n",
    "from mesa import Agent, Model\n",
    "from mesa.time import RandomActivation\n",
    "from mesa.visualization.modules import ChartModule\n",
    "\n",
    "# Adding a chart\n",
    "chart = ChartModule([{\"Label\": \"Gini\",\n",
    "                      \"Color\": \"Black\"}],\n",
    "                    data_collector_name='datacollector')\n",
    "\n",
    "server = ModularServer(MoneyModel,\n",
    "                       [grid, chart],\n",
    "                       \"Money Model\",\n",
    "                       100, 10, 10)\n",
    "server.port = 8525 # I choose another port\n",
    "server.launch()"
   ]
  },
  {
   "cell_type": "markdown",
   "metadata": {},
   "source": [
    "and so forth"
   ]
  }
 ],
 "metadata": {
  "kernelspec": {
   "display_name": "Python 3",
   "language": "python",
   "name": "python3"
  },
  "language_info": {
   "codemirror_mode": {
    "name": "ipython",
    "version": 3
   },
   "file_extension": ".py",
   "mimetype": "text/x-python",
   "name": "python",
   "nbconvert_exporter": "python",
   "pygments_lexer": "ipython3",
   "version": "3.4.5"
  }
 },
 "nbformat": 4,
 "nbformat_minor": 1
}
